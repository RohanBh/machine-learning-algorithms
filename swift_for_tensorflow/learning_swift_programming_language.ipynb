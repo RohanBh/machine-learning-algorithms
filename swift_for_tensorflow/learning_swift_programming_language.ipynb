{
  "nbformat": 4,
  "nbformat_minor": 0,
  "metadata": {
    "colab": {
      "name": "learning swift programming language.ipynb",
      "version": "0.3.2",
      "provenance": [],
      "collapsed_sections": [],
      "include_colab_link": true
    },
    "kernelspec": {
      "name": "swift",
      "display_name": "Swift"
    }
  },
  "cells": [
    {
      "cell_type": "markdown",
      "metadata": {
        "id": "view-in-github",
        "colab_type": "text"
      },
      "source": [
        "<a href=\"https://colab.research.google.com/github/RohanBh/machine-learning-algorithms/blob/master/swift_for_tensorflow/learning_swift_programming_language.ipynb\" target=\"_parent\"><img src=\"https://colab.research.google.com/assets/colab-badge.svg\" alt=\"Open In Colab\"/></a>"
      ]
    },
    {
      "metadata": {
        "id": "nC5u4c6l2Y5t",
        "colab_type": "text"
      },
      "cell_type": "markdown",
      "source": [
        "# The Swift Programming Language"
      ]
    },
    {
      "metadata": {
        "id": "BpTloRhB2cf9",
        "colab_type": "text"
      },
      "cell_type": "markdown",
      "source": [
        "I am learning Swift so that I can dive into [Swift for TensorFlow][1]. To me Swift looks an awful lot similar to [Kotlin][2]. \n",
        "\n",
        "[1]: https://www.tensorflow.org/swift\n",
        "[2]: https://kotlinlang.org/"
      ]
    },
    {
      "metadata": {
        "id": "kZRlD4utdPuX",
        "colab_type": "text"
      },
      "cell_type": "markdown",
      "source": [
        "Let's start by printing a \"Hello, world!\"."
      ]
    },
    {
      "metadata": {
        "id": "ChZoh7Ss1hN8",
        "colab_type": "code",
        "outputId": "af6dabd5-15f4-42fb-a186-5be3e7f6d1ee",
        "colab": {
          "base_uri": "https://localhost:8080/",
          "height": 34
        }
      },
      "cell_type": "code",
      "source": [
        "print(\"Hello, world!\")"
      ],
      "execution_count": 1,
      "outputs": [
        {
          "output_type": "stream",
          "text": [
            "Hello, world!\r\n"
          ],
          "name": "stdout"
        }
      ]
    },
    {
      "metadata": {
        "id": "PzvFtrl_1kwI",
        "colab_type": "text"
      },
      "cell_type": "markdown",
      "source": [
        "That's good! Now let's learn about variables and constants."
      ]
    },
    {
      "metadata": {
        "id": "_5EMZOay1rqF",
        "colab_type": "code",
        "outputId": "6dab8854-0200-432f-cdda-a6d1574d8887",
        "colab": {
          "base_uri": "https://localhost:8080/",
          "height": 51
        }
      },
      "cell_type": "code",
      "source": [
        "// var creates a variable\n",
        "var myVariable = 10\n",
        "myVariable = 20\n",
        "\n",
        "// creates a constant, i.e. value can't be\n",
        "// changed once assigned\n",
        "let myConstant = 10\n",
        "print(\"Variable:\", myVariable)\n",
        "print(\"Constant:\", myConstant)"
      ],
      "execution_count": 2,
      "outputs": [
        {
          "output_type": "stream",
          "text": [
            "Variable: 20\r\n",
            "Constant: 10\r\n"
          ],
          "name": "stdout"
        }
      ]
    },
    {
      "metadata": {
        "id": "4F0KIoBe13fz",
        "colab_type": "text"
      },
      "cell_type": "markdown",
      "source": [
        "If we try to change a constant's value, this happens..."
      ]
    },
    {
      "metadata": {
        "id": "7QT-oSxu1_sz",
        "colab_type": "code",
        "outputId": "70438111-a799-441e-9540-16fbf5f4d4e3",
        "colab": {
          "base_uri": "https://localhost:8080/",
          "height": 214
        }
      },
      "cell_type": "code",
      "source": [
        "myConstant = 20"
      ],
      "execution_count": 3,
      "outputs": [
        {
          "output_type": "error",
          "ename": "",
          "evalue": "ignored",
          "traceback": [
            "error: <Cell 3>:1:1: error: cannot assign to value: 'myConstant' is a 'let' constant\nmyConstant = 20\n^~~~~~~~~~\n\n<Cell 2>:7:1: note: change 'let' to 'var' to make it mutable\nlet myConstant = 10\n^~~\nvar\n\n"
          ]
        }
      ]
    },
    {
      "metadata": {
        "id": "s21ubDpU2Gyl",
        "colab_type": "text"
      },
      "cell_type": "markdown",
      "source": [
        "Oops! We better not do it again. \n",
        "\n",
        "Okay. Swift is a typed language. But we didn't use types earlier, did we? Well, Swift infers the type of the variable/constant. Let's try this..."
      ]
    },
    {
      "metadata": {
        "id": "eKeHuh-l3FKJ",
        "colab_type": "code",
        "outputId": "1eb5925e-548b-4789-a0a2-f114c3b73dcc",
        "colab": {
          "base_uri": "https://localhost:8080/",
          "height": 129
        }
      },
      "cell_type": "code",
      "source": [
        "myVariable = \"Some random String!\""
      ],
      "execution_count": 4,
      "outputs": [
        {
          "output_type": "error",
          "ename": "",
          "evalue": "ignored",
          "traceback": [
            "error: <Cell 4>:1:14: error: cannot assign value of type 'String' to type 'Int'\nmyVariable = \"Some random String!\"\n             ^~~~~~~~~~~~~~~~~~~~~\n\n"
          ]
        }
      ]
    },
    {
      "metadata": {
        "id": "LRYvId4ugG_g",
        "colab_type": "code",
        "colab": {
          "base_uri": "https://localhost:8080/",
          "height": 34
        },
        "outputId": "1c869850-684e-4927-c506-4752984f530b"
      },
      "cell_type": "code",
      "source": [
        "var myVariable = 10 // redeclaring a variable\n",
        "print(type(of: myVariable))"
      ],
      "execution_count": 30,
      "outputs": [
        {
          "output_type": "stream",
          "text": [
            "Int\r\n"
          ],
          "name": "stdout"
        }
      ]
    },
    {
      "metadata": {
        "id": "1MjiyJ3v3Osx",
        "colab_type": "text"
      },
      "cell_type": "markdown",
      "source": [
        "See, the above variable is of type `Int`."
      ]
    },
    {
      "metadata": {
        "id": "V-Uv_hFi3W7G",
        "colab_type": "text"
      },
      "cell_type": "markdown",
      "source": [
        "So, how do we explicitly specify types? Very simple..."
      ]
    },
    {
      "metadata": {
        "id": "z7A84fjd3d_8",
        "colab_type": "code",
        "outputId": "3fd7f3af-3763-4775-a5ab-863dad41a294",
        "colab": {
          "base_uri": "https://localhost:8080/",
          "height": 34
        }
      },
      "cell_type": "code",
      "source": [
        "// Explicit typing\n",
        "let explicitDouble : Double = 190\n",
        "let explicitFloat : Float = 4\n",
        "\n",
        "print(explicitDouble, explicitFloat)"
      ],
      "execution_count": 5,
      "outputs": [
        {
          "output_type": "stream",
          "text": [
            "190.0 4.0\r\n"
          ],
          "name": "stdout"
        }
      ]
    },
    {
      "metadata": {
        "id": "5SqL9KYq3ge_",
        "colab_type": "text"
      },
      "cell_type": "markdown",
      "source": [
        "There's no implicit casting of variables like in Java or C++"
      ]
    },
    {
      "metadata": {
        "id": "cTX0hxve3okl",
        "colab_type": "code",
        "outputId": "c688e9ec-6148-4b39-b2bf-a3049c6b6136",
        "colab": {
          "base_uri": "https://localhost:8080/",
          "height": 146
        }
      },
      "cell_type": "code",
      "source": [
        "let producesError : Float = 70 + myVariable"
      ],
      "execution_count": 6,
      "outputs": [
        {
          "output_type": "error",
          "ename": "",
          "evalue": "ignored",
          "traceback": [
            "error: <Cell 6>:1:32: error: cannot convert value of type 'Int' to specified type 'Float'\nlet producesError : Float = 70 + myVariable\n                            ~~~^~~~~~~~~~~~\n                            Float(         )\n\n"
          ]
        }
      ]
    },
    {
      "metadata": {
        "id": "NdsNFx2Z4QPg",
        "colab_type": "code",
        "outputId": "684df9ab-d738-4897-e5d6-d4e3a4a9e351",
        "colab": {
          "base_uri": "https://localhost:8080/",
          "height": 34
        }
      },
      "cell_type": "code",
      "source": [
        "let worksFine : Float = 70 + Float(myVariable)\n",
        "print(worksFine)"
      ],
      "execution_count": 7,
      "outputs": [
        {
          "output_type": "stream",
          "text": [
            "90.0\r\n"
          ],
          "name": "stdout"
        }
      ]
    },
    {
      "metadata": {
        "id": "AU6b9J9Y4bLw",
        "colab_type": "text"
      },
      "cell_type": "markdown",
      "source": [
        "We can use expressions in between strings much like python's f-string and Kotlin's `{}` syntax."
      ]
    },
    {
      "metadata": {
        "id": "Mj0oatHU4Vv4",
        "colab_type": "code",
        "outputId": "fe446d25-6166-43d3-ca69-584321bf49a2",
        "colab": {
          "base_uri": "https://localhost:8080/",
          "height": 34
        }
      },
      "cell_type": "code",
      "source": [
        "let apple = 2\n",
        "let orange = 3\n",
        "let fruitSummary = \"I have \\(apple + orange) pieces of fruit.\"\n",
        "print(fruitSummary)"
      ],
      "execution_count": 8,
      "outputs": [
        {
          "output_type": "stream",
          "text": [
            "I have 5 pieces of fruit.\r\n"
          ],
          "name": "stdout"
        }
      ]
    },
    {
      "metadata": {
        "id": "FZaEWi-a4oiO",
        "colab_type": "text"
      },
      "cell_type": "markdown",
      "source": [
        "We can also have triple quoted strings which are also again available in Python and Kotlin. Let's see an example."
      ]
    },
    {
      "metadata": {
        "id": "dtHAeF_54y2V",
        "colab_type": "code",
        "outputId": "d71cb673-e67c-474b-eb1d-68f26bbb9ca3",
        "colab": {
          "base_uri": "https://localhost:8080/",
          "height": 51
        }
      },
      "cell_type": "code",
      "source": [
        "// Quotation Strings: Similar to Python and Kotlin's\n",
        "// NOTE: Indentation at beginning is removed if it matches\n",
        "// indentation of closing quotation mark\n",
        "let quotation = \"\"\"\n",
        "      Hello. My name is Rohan.\n",
        "      I am a B.Tech. CSE student at IITR.\n",
        "   \"\"\"\n",
        "// Here the starting 3 space of each sentence are ignored!\n",
        "print(quotation)"
      ],
      "execution_count": 9,
      "outputs": [
        {
          "output_type": "stream",
          "text": [
            "   Hello. My name is Rohan.\r\n",
            "   I am a B.Tech. CSE student at IITR.\r\n"
          ],
          "name": "stdout"
        }
      ]
    },
    {
      "metadata": {
        "id": "zxhclHiH5PwY",
        "colab_type": "text"
      },
      "cell_type": "markdown",
      "source": [
        "We also have arrays and dictionaries."
      ]
    },
    {
      "metadata": {
        "id": "giPq6Xcu5JSZ",
        "colab_type": "code",
        "outputId": "3155cd1f-7e84-4027-c309-03fd20d127a1",
        "colab": {
          "base_uri": "https://localhost:8080/",
          "height": 51
        }
      },
      "cell_type": "code",
      "source": [
        "var fruits = [\"apples\", \"oranges\", \"melons\"]\n",
        "print(\"Fruits:\", fruits)\n",
        "\n",
        "fruits.append(\"bananas\")\n",
        "fruits[1] = \"kiwi\"\n",
        "print(\"New Fruits:\", fruits)"
      ],
      "execution_count": 10,
      "outputs": [
        {
          "output_type": "stream",
          "text": [
            "Fruits: [\"apples\", \"oranges\", \"melons\"]\r\n",
            "New Fruits: [\"apples\", \"kiwi\", \"melons\", \"bananas\"]\r\n"
          ],
          "name": "stdout"
        }
      ]
    },
    {
      "metadata": {
        "id": "cMeYsCZU5Xeh",
        "colab_type": "code",
        "outputId": "7535db18-eeb1-4e8a-f855-1a2c1d1071d2",
        "colab": {
          "base_uri": "https://localhost:8080/",
          "height": 68
        }
      },
      "cell_type": "code",
      "source": [
        "// Empty Array needs type annotation\n",
        "let emptyArray : [String] = []\n",
        "let anotherEmptyArray = [String]() // invoking the constructor\n",
        "print(\"Empty Arr:\", emptyArray)\n",
        "print(\"Another Empty Arr:\", anotherEmptyArray)\n",
        "\n",
        "var myDictionary : [AnyHashable: Any] = [1: \"One\", \"Two\": 2]\n",
        "myDictionary[\"3\"] = [\"Three\": 3]\n",
        "print(myDictionary)"
      ],
      "execution_count": 11,
      "outputs": [
        {
          "output_type": "stream",
          "text": [
            "Empty Arr: []\r\n",
            "Another Empty Arr: []\r\n",
            "[AnyHashable(1): \"One\", AnyHashable(\"3\"): [\"Three\": 3], AnyHashable(\"Two\"): 2]\r\n"
          ],
          "name": "stdout"
        }
      ]
    },
    {
      "metadata": {
        "id": "YgCEyaEU5-Fx",
        "colab_type": "text"
      },
      "cell_type": "markdown",
      "source": [
        "We can use for, if statements like usual without `()` brackets."
      ]
    },
    {
      "metadata": {
        "id": "RuNnjEPw549g",
        "colab_type": "code",
        "outputId": "f8da5098-6944-4b6c-b115-2e3b54b20748",
        "colab": {
          "base_uri": "https://localhost:8080/",
          "height": 51
        }
      },
      "cell_type": "code",
      "source": [
        "// Control Flow\n",
        "for dict in myDictionary {\n",
        "    if dict.key is String {\n",
        "        print(\"\\\"\\(dict.key as! String)\\\"\")\n",
        "    }\n",
        "}"
      ],
      "execution_count": 12,
      "outputs": [
        {
          "output_type": "stream",
          "text": [
            "\"3\"\r\n",
            "\"Two\"\r\n"
          ],
          "name": "stdout"
        }
      ]
    },
    {
      "metadata": {
        "id": "T1j2Ohs_6Xih",
        "colab_type": "text"
      },
      "cell_type": "markdown",
      "source": [
        "There are optional types in Swift. These type can also take an optional value called `nil` which is used to denote missing values."
      ]
    },
    {
      "metadata": {
        "id": "irC_OT1B7MhI",
        "colab_type": "code",
        "outputId": "5bf44f20-3e5e-4174-950a-0d6d4914d32b",
        "colab": {
          "base_uri": "https://localhost:8080/",
          "height": 34
        }
      },
      "cell_type": "code",
      "source": [
        "var optionalString : String?\n",
        "print(type(of: optionalString))"
      ],
      "execution_count": 13,
      "outputs": [
        {
          "output_type": "stream",
          "text": [
            "Optional<String>\r\n"
          ],
          "name": "stdout"
        }
      ]
    },
    {
      "metadata": {
        "id": "ic_QGFw27nyI",
        "colab_type": "text"
      },
      "cell_type": "markdown",
      "source": [
        "Optional data types are nothing but boxed (wrapped) version of normal types."
      ]
    },
    {
      "metadata": {
        "id": "PHmyaqYO6rAg",
        "colab_type": "code",
        "outputId": "8eb2f9bf-2003-4dbe-85b6-538eb96bfe5f",
        "colab": {
          "base_uri": "https://localhost:8080/",
          "height": 51
        }
      },
      "cell_type": "code",
      "source": [
        "// Optional value\n",
        "var name : String?\n",
        "// This makes unwrapped name available in the \n",
        "// \"if block\" if the value is not nil.\n",
        "// Otherwise else block is executed.\n",
        "if let localName = name {\n",
        "    print(localName) // Unwrapped Name\n",
        "} else {\n",
        "    print(\"name is\", name as Any) // To remove the warning\n",
        "}\n",
        "name = \"Rohan\"\n",
        "// ?? is used to provide a default value to an\n",
        "// Optional value in case it is missing (nil).\n",
        "if let localName = name {\n",
        "    print(localName) // Unwrapped Name\n",
        "} else {\n",
        "    print(\"name is\", name ?? \"nil\") // To remove the warning\n",
        "}"
      ],
      "execution_count": 14,
      "outputs": [
        {
          "output_type": "stream",
          "text": [
            "name is nil\r\n",
            "Rohan\r\n"
          ],
          "name": "stdout"
        }
      ]
    },
    {
      "metadata": {
        "id": "wqtI_Azsp9Z4",
        "colab_type": "text"
      },
      "cell_type": "markdown",
      "source": [
        "The `??` operator provides a default value for optional value."
      ]
    },
    {
      "metadata": {
        "id": "_Kxz6JwUpjVY",
        "colab_type": "code",
        "colab": {
          "base_uri": "https://localhost:8080/",
          "height": 34
        },
        "outputId": "91e4da9a-3cd4-4dcc-8869-12c92f550e5f"
      },
      "cell_type": "code",
      "source": [
        "name = nil\n",
        "var fullName = \"Rohan Bhatia\"\n",
        "print(\"Hello, \\(name ?? fullName)\")"
      ],
      "execution_count": 15,
      "outputs": [
        {
          "output_type": "stream",
          "text": [
            "Hello, Rohan Bhatia\r\n"
          ],
          "name": "stdout"
        }
      ]
    },
    {
      "metadata": {
        "id": "e2J7G0uLqRjw",
        "colab_type": "text"
      },
      "cell_type": "markdown",
      "source": [
        "Switch statement in Swift are a lot more interesting! We don't need a break statement at the end of each case because there's no fall-through. After a case executing, the control flow exits the switch statement."
      ]
    },
    {
      "metadata": {
        "id": "AbdBSy9Uqh12",
        "colab_type": "code",
        "colab": {
          "base_uri": "https://localhost:8080/",
          "height": 197
        },
        "outputId": "2e690806-7f08-42c3-be01-8ea70a7efe6b"
      },
      "cell_type": "code",
      "source": [
        "let year = \"2019\"\n",
        "switch year {\n",
        "    case \"2018\": print(\"Past!\")\n",
        "    case \"2020\", \"2021\": print(\"Future!\")\n",
        "    case let x where x.hasPrefix(\"20\"): print(\"20xx\")\n",
        "}"
      ],
      "execution_count": 16,
      "outputs": [
        {
          "output_type": "error",
          "ename": "",
          "evalue": "ignored",
          "traceback": [
            "error: <Cell 16>:2:1: error: switch must be exhaustive\nswitch year {\n^\n\n<Cell 16>:2:1: note: do you want to add a default clause?\nswitch year {\n^\n\n"
          ]
        }
      ]
    },
    {
      "metadata": {
        "id": "SIZw9EpXrPB9",
        "colab_type": "text"
      },
      "cell_type": "markdown",
      "source": [
        "Okay, switches always need to be exhaustive. Let's add a default clause."
      ]
    },
    {
      "metadata": {
        "id": "MHm_7u4OrUgA",
        "colab_type": "code",
        "colab": {
          "base_uri": "https://localhost:8080/",
          "height": 34
        },
        "outputId": "e3b2225a-26ec-4b73-89e8-47d77f50ea45"
      },
      "cell_type": "code",
      "source": [
        "let year = \"2019\"\n",
        "switch year {\n",
        "    case \"2018\": print(\"Past!\")\n",
        "    case \"2020\", \"2021\": print(\"Future!\")\n",
        "    case let x where x.hasPrefix(\"20\"): print(\"20xx\")\n",
        "    default: break // see: https://stackoverflow.com/questions/24108060/how-can-i-write-an-empty-case-in-swift/24108150\n",
        "}"
      ],
      "execution_count": 17,
      "outputs": [
        {
          "output_type": "stream",
          "text": [
            "20xx\r\n"
          ],
          "name": "stdout"
        }
      ]
    },
    {
      "metadata": {
        "id": "BqusAA1LamvK",
        "colab_type": "text"
      },
      "cell_type": "markdown",
      "source": [
        "Moving on to iteration over a `dictionary`."
      ]
    },
    {
      "metadata": {
        "id": "wKSkm_IhbabL",
        "colab_type": "code",
        "colab": {
          "base_uri": "https://localhost:8080/",
          "height": 102
        },
        "outputId": "1456febd-e66f-4a66-cce3-c073416d1095"
      },
      "cell_type": "code",
      "source": [
        "let strToNum = [\n",
        "    \"1\": 1,\n",
        "    \"2\": 2,\n",
        "    \"3\": 3,\n",
        "    \"4\": 4,\n",
        "    \"5\": 5\n",
        "]\n",
        "for (key, value) in strToNum {\n",
        "    print(key,\":\", value)\n",
        "}"
      ],
      "execution_count": 18,
      "outputs": [
        {
          "output_type": "stream",
          "text": [
            "4 : 4\r\n",
            "5 : 5\r\n",
            "1 : 1\r\n",
            "2 : 2\r\n",
            "3 : 3\r\n"
          ],
          "name": "stdout"
        }
      ]
    },
    {
      "metadata": {
        "id": "u7uRfV6tbwqv",
        "colab_type": "text"
      },
      "cell_type": "markdown",
      "source": [
        "Since dictionary is an unordered collection, the iteration is done in an arbitrary order."
      ]
    },
    {
      "metadata": {
        "id": "_cKXDUqtb4k6",
        "colab_type": "text"
      },
      "cell_type": "markdown",
      "source": [
        "Let's examine the `while` and `repeat-while` (similar to `do-while`) loop constructs."
      ]
    },
    {
      "metadata": {
        "id": "jKMNes9scJiu",
        "colab_type": "code",
        "colab": {
          "base_uri": "https://localhost:8080/",
          "height": 68
        },
        "outputId": "078db7d9-a5e6-402b-8f37-a983a02311d1"
      },
      "cell_type": "code",
      "source": [
        "var n = 8\n",
        "while n > 1 {\n",
        "    print(n)\n",
        "    n = n / 2\n",
        "}"
      ],
      "execution_count": 19,
      "outputs": [
        {
          "output_type": "stream",
          "text": [
            "8\r\n",
            "4\r\n",
            "2\r\n"
          ],
          "name": "stdout"
        }
      ]
    },
    {
      "metadata": {
        "id": "krDa-tGWcv_2",
        "colab_type": "code",
        "colab": {
          "base_uri": "https://localhost:8080/",
          "height": 85
        },
        "outputId": "3a7ebdfe-52bd-4c8c-d726-315415ed7727"
      },
      "cell_type": "code",
      "source": [
        "repeat {\n",
        "    print(n)\n",
        "    n = n * 2\n",
        "} while n < 9"
      ],
      "execution_count": 20,
      "outputs": [
        {
          "output_type": "stream",
          "text": [
            "1\r\n",
            "2\r\n",
            "4\r\n",
            "8\r\n"
          ],
          "name": "stdout"
        }
      ]
    },
    {
      "metadata": {
        "id": "ZZHW4FzEcyxu",
        "colab_type": "text"
      },
      "cell_type": "markdown",
      "source": [
        "Cool! So, what if we wanna run an indexed for loop?"
      ]
    },
    {
      "metadata": {
        "id": "uYhyjOZbdBuj",
        "colab_type": "code",
        "colab": {
          "base_uri": "https://localhost:8080/",
          "height": 102
        },
        "outputId": "861d5aa4-f6a9-41e6-f672-94c9f26e46bc"
      },
      "cell_type": "code",
      "source": [
        "var i = 0.4 // This i is of global scope\n",
        "for i in 0...3 {\n",
        "    print(i)\n",
        "}\n",
        "print(i)"
      ],
      "execution_count": 21,
      "outputs": [
        {
          "output_type": "stream",
          "text": [
            "0\r\n",
            "1\r\n",
            "2\r\n",
            "3\r\n",
            "0.4\r\n"
          ],
          "name": "stdout"
        }
      ]
    },
    {
      "metadata": {
        "id": "0XuOds3GdZ-Y",
        "colab_type": "code",
        "colab": {
          "base_uri": "https://localhost:8080/",
          "height": 68
        },
        "outputId": "994d795d-d039-41b3-be5c-32b79275da0f"
      },
      "cell_type": "code",
      "source": [
        "for i in 0..<3 { // Used to exclude the upper index\n",
        "    print(i)\n",
        "}"
      ],
      "execution_count": 22,
      "outputs": [
        {
          "output_type": "stream",
          "text": [
            "0\r\n",
            "1\r\n",
            "2\r\n"
          ],
          "name": "stdout"
        }
      ]
    },
    {
      "metadata": {
        "id": "i0yCPtzUdiHC",
        "colab_type": "code",
        "colab": {
          "base_uri": "https://localhost:8080/",
          "height": 68
        },
        "outputId": "0bcf0cb3-2e85-47a2-e604-8b9ecb69bff3"
      },
      "cell_type": "code",
      "source": [
        "0..<3"
      ],
      "execution_count": 23,
      "outputs": [
        {
          "output_type": "execute_result",
          "data": {
            "text/plain": [
              "▿ Range(0..<3)\n",
              "  - lowerBound : 0\n",
              "  - upperBound : 3\n"
            ]
          },
          "metadata": {
            "tags": []
          },
          "execution_count": 23
        }
      ]
    },
    {
      "metadata": {
        "id": "2TV1Zek2doGr",
        "colab_type": "text"
      },
      "cell_type": "markdown",
      "source": [
        "Let's see how to define a function."
      ]
    },
    {
      "metadata": {
        "id": "ryHaFPhzeOKF",
        "colab_type": "code",
        "colab": {}
      },
      "cell_type": "code",
      "source": [
        "// This prints a variable and returns the same\n",
        "func printWrapper(variable: String) -> String {\n",
        "    print(variable)\n",
        "    return variable\n",
        "}"
      ],
      "execution_count": 0,
      "outputs": []
    },
    {
      "metadata": {
        "id": "djLCW-8derTw",
        "colab_type": "text"
      },
      "cell_type": "markdown",
      "source": [
        "Great! Let's call it."
      ]
    },
    {
      "metadata": {
        "id": "dZiVj3MNeuV9",
        "colab_type": "code",
        "colab": {
          "base_uri": "https://localhost:8080/",
          "height": 146
        },
        "outputId": "42e33eea-8b02-423e-9f01-ccb28dcdd868"
      },
      "cell_type": "code",
      "source": [
        "var a = printWrapper(\"Hello,\")"
      ],
      "execution_count": 25,
      "outputs": [
        {
          "output_type": "error",
          "ename": "",
          "evalue": "ignored",
          "traceback": [
            "error: <Cell 25>:1:22: error: missing argument label 'variable:' in call\nvar a = printWrapper(\"Hello,\")\n                     ^\n                     variable: \n\n"
          ]
        }
      ]
    },
    {
      "metadata": {
        "id": "JR9vXU5ae96D",
        "colab_type": "text"
      },
      "cell_type": "markdown",
      "source": [
        "Okay, I forgot. Remember the optional labels we used to provide in Kotlin and Python? Well, they are not so optional in Swift."
      ]
    },
    {
      "metadata": {
        "id": "44Rd1Is4fbQX",
        "colab_type": "code",
        "colab": {
          "base_uri": "https://localhost:8080/",
          "height": 34
        },
        "outputId": "d6357803-a43f-430c-eec3-50281fc65544"
      },
      "cell_type": "code",
      "source": [
        "var a = printWrapper(variable: \"Hello,\")"
      ],
      "execution_count": 26,
      "outputs": [
        {
          "output_type": "stream",
          "text": [
            "Hello,\r\n"
          ],
          "name": "stdout"
        }
      ]
    },
    {
      "metadata": {
        "id": "45kwPJv0e9gI",
        "colab_type": "code",
        "colab": {
          "base_uri": "https://localhost:8080/",
          "height": 34
        },
        "outputId": "b8abd1ac-b49e-444d-98f5-cc1f91baefe1"
      },
      "cell_type": "code",
      "source": [
        "print(a, \"world!\")"
      ],
      "execution_count": 27,
      "outputs": [
        {
          "output_type": "stream",
          "text": [
            "Hello, world!\r\n"
          ],
          "name": "stdout"
        }
      ]
    },
    {
      "metadata": {
        "id": "TvKlCwI8fTt2",
        "colab_type": "text"
      },
      "cell_type": "markdown",
      "source": [
        "By default the functions use their argument names as the labels. But we can change that. Let's see how.\n",
        "\n",
        "\n",
        "NOTE: `_` specifies no label for that arguement."
      ]
    },
    {
      "metadata": {
        "id": "WBZJ_ySvfkqu",
        "colab_type": "code",
        "colab": {}
      },
      "cell_type": "code",
      "source": [
        "func compIntStr(_ var1: Int, to var2: String) -> Bool {\n",
        "    return String(var1) == var2\n",
        "}"
      ],
      "execution_count": 0,
      "outputs": []
    },
    {
      "metadata": {
        "id": "C_d7dYXSguX3",
        "colab_type": "code",
        "colab": {
          "base_uri": "https://localhost:8080/",
          "height": 34
        },
        "outputId": "e1af692b-48ff-4102-9e0f-f8ed5a5bca8b"
      },
      "cell_type": "code",
      "source": [
        "compIntStr(10, to: \"10\")"
      ],
      "execution_count": 37,
      "outputs": [
        {
          "output_type": "execute_result",
          "data": {
            "text/plain": [
              "true\n"
            ]
          },
          "metadata": {
            "tags": []
          },
          "execution_count": 37
        }
      ]
    }
  ]
}