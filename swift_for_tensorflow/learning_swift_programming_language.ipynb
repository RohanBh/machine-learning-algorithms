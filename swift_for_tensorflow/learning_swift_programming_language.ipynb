{
  "nbformat": 4,
  "nbformat_minor": 0,
  "metadata": {
    "colab": {
      "name": "Learning Swift Programming Language.ipynb",
      "version": "0.3.2",
      "provenance": [],
      "collapsed_sections": [],
      "include_colab_link": true
    },
    "kernelspec": {
      "name": "swift",
      "display_name": "Swift"
    }
  },
  "cells": [
    {
      "cell_type": "markdown",
      "metadata": {
        "id": "view-in-github",
        "colab_type": "text"
      },
      "source": [
        "<a href=\"https://colab.research.google.com/github/RohanBh/machine-learning-algorithms/blob/master/swift_for_tensorflow/learning_swift_programming_language.ipynb\" target=\"_parent\"><img src=\"https://colab.research.google.com/assets/colab-badge.svg\" alt=\"Open In Colab\"/></a>"
      ]
    },
    {
      "metadata": {
        "id": "nC5u4c6l2Y5t",
        "colab_type": "text"
      },
      "cell_type": "markdown",
      "source": [
        "# The Swift Programming Language"
      ]
    },
    {
      "metadata": {
        "id": "BpTloRhB2cf9",
        "colab_type": "text"
      },
      "cell_type": "markdown",
      "source": [
        "I am learning Swift so that I can dive into [Swift for TensorFlow][1]. To me Swift looks an awful lot similar to [Kotlin][2]. \n",
        "\n",
        "[1]: https://www.tensorflow.org/swift\n",
        "[2]: https://kotlinlang.org/"
      ]
    },
    {
      "metadata": {
        "id": "kZRlD4utdPuX",
        "colab_type": "text"
      },
      "cell_type": "markdown",
      "source": [
        "Let's start by printing a \"Hello, world!\"."
      ]
    },
    {
      "metadata": {
        "id": "ChZoh7Ss1hN8",
        "colab_type": "code",
        "colab": {
          "base_uri": "https://localhost:8080/",
          "height": 34
        },
        "outputId": "5e2341ac-24cf-45a7-8fe4-34f7882edaee"
      },
      "cell_type": "code",
      "source": [
        "print(\"Hello, world!\")"
      ],
      "execution_count": 1,
      "outputs": [
        {
          "output_type": "stream",
          "text": [
            "Hello, world!\r\n"
          ],
          "name": "stdout"
        }
      ]
    },
    {
      "metadata": {
        "id": "PzvFtrl_1kwI",
        "colab_type": "text"
      },
      "cell_type": "markdown",
      "source": [
        "That's good! Now let's learn about variables and constants."
      ]
    },
    {
      "metadata": {
        "id": "_5EMZOay1rqF",
        "colab_type": "code",
        "colab": {
          "base_uri": "https://localhost:8080/",
          "height": 51
        },
        "outputId": "3248c274-9330-431c-ece7-a053712a5d9b"
      },
      "cell_type": "code",
      "source": [
        "// var creates a variable\n",
        "var myVariable = 10\n",
        "myVariable = 20\n",
        "\n",
        "// creates a constant, i.e. value can't be\n",
        "// changed once assigned\n",
        "let myConstant = 10\n",
        "print(\"Variable:\", myVariable)\n",
        "print(\"Constant:\", myConstant)"
      ],
      "execution_count": 2,
      "outputs": [
        {
          "output_type": "stream",
          "text": [
            "Variable: 20\r\n",
            "Constant: 10\r\n"
          ],
          "name": "stdout"
        }
      ]
    },
    {
      "metadata": {
        "id": "4F0KIoBe13fz",
        "colab_type": "text"
      },
      "cell_type": "markdown",
      "source": [
        "If we try to change a constant's value, this happens..."
      ]
    },
    {
      "metadata": {
        "id": "7QT-oSxu1_sz",
        "colab_type": "code",
        "colab": {
          "base_uri": "https://localhost:8080/",
          "height": 214
        },
        "outputId": "4d6a051c-d4c0-47ae-d8b8-9143ec0d91fb"
      },
      "cell_type": "code",
      "source": [
        "myConstant = 20"
      ],
      "execution_count": 4,
      "outputs": [
        {
          "output_type": "error",
          "ename": "",
          "evalue": "ignored",
          "traceback": [
            "error: <Cell 4>:1:1: error: cannot assign to value: 'myConstant' is a 'let' constant\nmyConstant = 20\n^~~~~~~~~~\n\n<Cell 2>:7:1: note: change 'let' to 'var' to make it mutable\nlet myConstant = 10\n^~~\nvar\n\n"
          ]
        }
      ]
    },
    {
      "metadata": {
        "id": "s21ubDpU2Gyl",
        "colab_type": "text"
      },
      "cell_type": "markdown",
      "source": [
        "Oops! We better not do it again. \n",
        "\n",
        "Okay. Swift is a typed language. But we didn't use types earlier, did we? Well, Swift infers the type of the variable/constant. Let's try this..."
      ]
    },
    {
      "metadata": {
        "id": "eKeHuh-l3FKJ",
        "colab_type": "code",
        "colab": {
          "base_uri": "https://localhost:8080/",
          "height": 129
        },
        "outputId": "f9b8f486-2b49-49a0-d5ee-3da984696a6b"
      },
      "cell_type": "code",
      "source": [
        "myVariable = \"Some random String!\""
      ],
      "execution_count": 5,
      "outputs": [
        {
          "output_type": "error",
          "ename": "",
          "evalue": "ignored",
          "traceback": [
            "error: <Cell 5>:1:14: error: cannot assign value of type 'String' to type 'Int'\nmyVariable = \"Some random String!\"\n             ^~~~~~~~~~~~~~~~~~~~~\n\n"
          ]
        }
      ]
    },
    {
      "metadata": {
        "id": "1MjiyJ3v3Osx",
        "colab_type": "text"
      },
      "cell_type": "markdown",
      "source": [
        "See, the above variable is of type `Int`."
      ]
    },
    {
      "metadata": {
        "id": "V-Uv_hFi3W7G",
        "colab_type": "text"
      },
      "cell_type": "markdown",
      "source": [
        "So, how do we explicitly specify types? Very simple..."
      ]
    },
    {
      "metadata": {
        "id": "z7A84fjd3d_8",
        "colab_type": "code",
        "colab": {
          "base_uri": "https://localhost:8080/",
          "height": 34
        },
        "outputId": "e569dc71-c4ae-41d3-8e98-3ee202b14475"
      },
      "cell_type": "code",
      "source": [
        "// Explicit typing\n",
        "let explicitDouble : Double = 190\n",
        "let explicitFloat : Float = 4\n",
        "\n",
        "print(explicitDouble, explicitFloat)"
      ],
      "execution_count": 6,
      "outputs": [
        {
          "output_type": "stream",
          "text": [
            "190.0 4.0\r\n"
          ],
          "name": "stdout"
        }
      ]
    },
    {
      "metadata": {
        "id": "5SqL9KYq3ge_",
        "colab_type": "text"
      },
      "cell_type": "markdown",
      "source": [
        "There's no implicit casting of variables like in Java or C++"
      ]
    },
    {
      "metadata": {
        "id": "cTX0hxve3okl",
        "colab_type": "code",
        "colab": {
          "base_uri": "https://localhost:8080/",
          "height": 146
        },
        "outputId": "b1830382-0e67-436d-b19e-4f3d3d0c120b"
      },
      "cell_type": "code",
      "source": [
        "let producesError : Float = 70 + myVariable"
      ],
      "execution_count": 11,
      "outputs": [
        {
          "output_type": "error",
          "ename": "",
          "evalue": "ignored",
          "traceback": [
            "error: <Cell 11>:1:32: error: cannot convert value of type 'Int' to specified type 'Float'\nlet producesError : Float = 60 + myVariable\n                            ~~~^~~~~~~~~~~~\n                            Float(         )\n\n"
          ]
        }
      ]
    },
    {
      "metadata": {
        "id": "NdsNFx2Z4QPg",
        "colab_type": "code",
        "colab": {
          "base_uri": "https://localhost:8080/",
          "height": 34
        },
        "outputId": "6b1c4c21-98a2-4686-c293-ea3b12edd9ae"
      },
      "cell_type": "code",
      "source": [
        "let worksFine : Float = 70 + Float(myVariable)\n",
        "print(worksFine)"
      ],
      "execution_count": 12,
      "outputs": [
        {
          "output_type": "stream",
          "text": [
            "90.0\r\n"
          ],
          "name": "stdout"
        }
      ]
    },
    {
      "metadata": {
        "id": "AU6b9J9Y4bLw",
        "colab_type": "text"
      },
      "cell_type": "markdown",
      "source": [
        "We can use expressions in between strings much like python's f-string and Kotlin's `{}` syntax."
      ]
    },
    {
      "metadata": {
        "id": "Mj0oatHU4Vv4",
        "colab_type": "code",
        "colab": {
          "base_uri": "https://localhost:8080/",
          "height": 34
        },
        "outputId": "b1a7a7d2-37c0-4c84-e112-45dd16a3a40f"
      },
      "cell_type": "code",
      "source": [
        "let apple = 2\n",
        "let orange = 3\n",
        "let fruitSummary = \"I have \\(apple + orange) pieces of fruit.\"\n",
        "print(fruitSummary)"
      ],
      "execution_count": 13,
      "outputs": [
        {
          "output_type": "stream",
          "text": [
            "I have 5 pieces of fruit.\r\n"
          ],
          "name": "stdout"
        }
      ]
    },
    {
      "metadata": {
        "id": "FZaEWi-a4oiO",
        "colab_type": "text"
      },
      "cell_type": "markdown",
      "source": [
        "We can also have triple quoted strings which are also again available in Python and Kotlin. Let's see an example."
      ]
    },
    {
      "metadata": {
        "id": "dtHAeF_54y2V",
        "colab_type": "code",
        "colab": {
          "base_uri": "https://localhost:8080/",
          "height": 51
        },
        "outputId": "d7241d55-60a2-4d3f-ef60-ffa6a530c942"
      },
      "cell_type": "code",
      "source": [
        "// Quotation Strings: Similar to Python and Kotlin's\n",
        "// NOTE: Indentation at beginning is removed if it matches\n",
        "// indentation of closing quotation mark\n",
        "let quotation = \"\"\"\n",
        "      Hello. My name is Rohan.\n",
        "      I am a B.Tech. CSE student at IITR.\n",
        "   \"\"\"\n",
        "// Here the starting 3 space of each sentence are ignored!\n",
        "print(quotation)"
      ],
      "execution_count": 16,
      "outputs": [
        {
          "output_type": "stream",
          "text": [
            "   Hello. My name is Rohan.\r\n",
            "   I am a B.Tech. CSE student at IITR.\r\n"
          ],
          "name": "stdout"
        }
      ]
    },
    {
      "metadata": {
        "id": "zxhclHiH5PwY",
        "colab_type": "text"
      },
      "cell_type": "markdown",
      "source": [
        "We also have arrays and dictionaries."
      ]
    },
    {
      "metadata": {
        "id": "giPq6Xcu5JSZ",
        "colab_type": "code",
        "colab": {
          "base_uri": "https://localhost:8080/",
          "height": 51
        },
        "outputId": "d7215675-3617-45c3-ce9b-03a465be245c"
      },
      "cell_type": "code",
      "source": [
        "var fruits = [\"apples\", \"oranges\", \"melons\"]\n",
        "print(\"Fruits:\", fruits)\n",
        "\n",
        "fruits.append(\"bananas\")\n",
        "fruits[1] = \"kiwi\"\n",
        "print(\"New Fruits:\", fruits)"
      ],
      "execution_count": 18,
      "outputs": [
        {
          "output_type": "stream",
          "text": [
            "Fruits: [\"apples\", \"oranges\", \"melons\"]\r\n",
            "New Fruits: [\"apples\", \"kiwi\", \"melons\", \"bananas\"]\r\n"
          ],
          "name": "stdout"
        }
      ]
    },
    {
      "metadata": {
        "id": "cMeYsCZU5Xeh",
        "colab_type": "code",
        "colab": {
          "base_uri": "https://localhost:8080/",
          "height": 68
        },
        "outputId": "a1c30c6b-a898-4345-9cca-278e1738a851"
      },
      "cell_type": "code",
      "source": [
        "// Empty Array needs type annotation\n",
        "let emptyArray : [String] = []\n",
        "let anotherEmptyArray = [String]() // invoking the constructor\n",
        "print(\"Empty Arr:\", emptyArray)\n",
        "print(\"Another Empty Arr:\", anotherEmptyArray)\n",
        "\n",
        "var myDictionary : [AnyHashable: Any] = [1: \"One\", \"Two\": 2]\n",
        "myDictionary[\"3\"] = [\"Three\": 3]\n",
        "print(myDictionary)"
      ],
      "execution_count": 22,
      "outputs": [
        {
          "output_type": "stream",
          "text": [
            "Empty Arr: []\r\n",
            "Another Empty Arr: []\r\n",
            "[AnyHashable(\"Two\"): 2, AnyHashable(1): \"One\", AnyHashable(\"3\"): [\"Three\": 3]]\r\n"
          ],
          "name": "stdout"
        }
      ]
    },
    {
      "metadata": {
        "id": "YgCEyaEU5-Fx",
        "colab_type": "text"
      },
      "cell_type": "markdown",
      "source": [
        "We can use for, if statements like usual without `()` brackets."
      ]
    },
    {
      "metadata": {
        "id": "RuNnjEPw549g",
        "colab_type": "code",
        "colab": {
          "base_uri": "https://localhost:8080/",
          "height": 51
        },
        "outputId": "1daed911-773c-46b2-f466-683b03cb2e62"
      },
      "cell_type": "code",
      "source": [
        "// Control Flow\n",
        "for dict in myDictionary {\n",
        "    if dict.key is String {\n",
        "        print(\"\\\"\\(dict.key as! String)\\\"\")\n",
        "    }\n",
        "}"
      ],
      "execution_count": 25,
      "outputs": [
        {
          "output_type": "stream",
          "text": [
            "\"Two\"\r\n",
            "\"3\"\r\n"
          ],
          "name": "stdout"
        }
      ]
    },
    {
      "metadata": {
        "id": "T1j2Ohs_6Xih",
        "colab_type": "text"
      },
      "cell_type": "markdown",
      "source": [
        "There are optional types in Swift. These type can also take an optional value called `nil` which is used to denote missing values."
      ]
    },
    {
      "metadata": {
        "id": "irC_OT1B7MhI",
        "colab_type": "code",
        "colab": {
          "base_uri": "https://localhost:8080/",
          "height": 34
        },
        "outputId": "b8a8e0c3-9c9c-4a58-e8aa-05a69caca6fd"
      },
      "cell_type": "code",
      "source": [
        "var optionalString : String?\n",
        "print(type(of: optionalString))"
      ],
      "execution_count": 28,
      "outputs": [
        {
          "output_type": "stream",
          "text": [
            "Optional<String>\r\n"
          ],
          "name": "stdout"
        }
      ]
    },
    {
      "metadata": {
        "id": "ic_QGFw27nyI",
        "colab_type": "text"
      },
      "cell_type": "markdown",
      "source": [
        "Optional data types are nothing but boxed (wrapped) version of normal types."
      ]
    },
    {
      "metadata": {
        "id": "PHmyaqYO6rAg",
        "colab_type": "code",
        "colab": {
          "base_uri": "https://localhost:8080/",
          "height": 51
        },
        "outputId": "d2dcfae5-d126-455d-eec3-76ef60bb221f"
      },
      "cell_type": "code",
      "source": [
        "// Optional value\n",
        "var name : String?\n",
        "// This makes unwrapped name available in the \n",
        "// \"if block\" if the value is not nil.\n",
        "// Otherwise else block is executed.\n",
        "if let localName = name {\n",
        "    print(localName) // Unwrapped Name\n",
        "} else {\n",
        "    print(\"name is\", name as Any) // To remove the warning\n",
        "}\n",
        "name = \"Rohan\"\n",
        "// ?? is used to provide a default value to an\n",
        "// Optional value in case it is missing (nil).\n",
        "if let localName = name {\n",
        "    print(localName) // Unwrapped Name\n",
        "} else {\n",
        "    print(\"name is\", name ?? \"nil\") // To remove the warning\n",
        "}"
      ],
      "execution_count": 29,
      "outputs": [
        {
          "output_type": "stream",
          "text": [
            "name is nil\r\n",
            "Rohan\r\n"
          ],
          "name": "stdout"
        }
      ]
    }
  ]
}