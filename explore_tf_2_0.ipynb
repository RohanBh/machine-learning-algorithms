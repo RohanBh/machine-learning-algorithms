{
  "nbformat": 4,
  "nbformat_minor": 0,
  "metadata": {
    "colab": {
      "name": "explore_tf_2.0.ipynb",
      "version": "0.3.2",
      "provenance": [],
      "include_colab_link": true
    },
    "kernelspec": {
      "name": "python3",
      "display_name": "Python 3"
    },
    "accelerator": "GPU"
  },
  "cells": [
    {
      "cell_type": "markdown",
      "metadata": {
        "id": "view-in-github",
        "colab_type": "text"
      },
      "source": [
        "<a href=\"https://colab.research.google.com/github/RohanBh/machine-learning-algorithms/blob/master/explore_tf_2_0.ipynb\" target=\"_parent\"><img src=\"https://colab.research.google.com/assets/colab-badge.svg\" alt=\"Open In Colab\"/></a>"
      ]
    },
    {
      "metadata": {
        "id": "Qp9OFo64FmQp",
        "colab_type": "code",
        "colab": {}
      },
      "cell_type": "code",
      "source": [
        "!pip install -q tensorflow-gpu==2.0.0-alpha0"
      ],
      "execution_count": 0,
      "outputs": []
    },
    {
      "metadata": {
        "id": "8tKsPYSqF2Zm",
        "colab_type": "code",
        "colab": {}
      },
      "cell_type": "code",
      "source": [
        "import tensorflow as tf"
      ],
      "execution_count": 0,
      "outputs": []
    },
    {
      "metadata": {
        "id": "ZcpAF_7TF6yF",
        "colab_type": "code",
        "outputId": "9a527fbb-82aa-40f3-b591-9a66af755a51",
        "colab": {
          "base_uri": "https://localhost:8080/",
          "height": 51
        }
      },
      "cell_type": "code",
      "source": [
        "print(tf.__version__)\n",
        "print(tf.test.is_gpu_available())"
      ],
      "execution_count": 3,
      "outputs": [
        {
          "output_type": "stream",
          "text": [
            "2.0.0-alpha0\n",
            "True\n"
          ],
          "name": "stdout"
        }
      ]
    },
    {
      "metadata": {
        "id": "aKs8pAKkUpjt",
        "colab_type": "text"
      },
      "cell_type": "markdown",
      "source": [
        "##  TensorFlow helloworld"
      ]
    },
    {
      "metadata": {
        "id": "v2CX3ieLVx7n",
        "colab_type": "text"
      },
      "cell_type": "markdown",
      "source": [
        "[`keras`][2] is a high level deep learning API which can run with **tensorflow** or **theano** backends. In tensorflow, it is accessible through [`tf.keras`][1] module.\n",
        "\n",
        "Let's take a look at [`tf.keras.datasets`][3] module. This module contains popular datasets like *mnist*, *fashion_mnist*, *cifar10*, etc. Let's load the mnist dataset.\n",
        "\n",
        "From the docs, [`mnist.load_data(path)`][4] returns a tuple of numpy arrays: `(x_train, y_train), (x_test, y_test)`.\n",
        "\n",
        "[1]: https://www.tensorflow.org/versions/r2.0/api_docs/python/tf/keras\n",
        "[2]: https://keras.io/\n",
        "[3]: https://www.tensorflow.org/versions/r2.0/api_docs/python/tf/keras/datasets\n",
        "[4]: https://www.tensorflow.org/versions/r2.0/api_docs/python/tf/keras/datasets/mnist/load_data"
      ]
    },
    {
      "metadata": {
        "id": "WnlAbrm8rFry",
        "colab_type": "code",
        "colab": {}
      },
      "cell_type": "code",
      "source": [
        "mnist = tf.keras.datasets.mnist\n",
        "\n",
        "(x_train, y_train), (x_test, y_test) = mnist.load_data()"
      ],
      "execution_count": 0,
      "outputs": []
    },
    {
      "metadata": {
        "id": "QMmMNWIBsTO_",
        "colab_type": "code",
        "colab": {
          "base_uri": "https://localhost:8080/",
          "height": 34
        },
        "outputId": "18790e23-ed58-4c0f-be84-ed17d28d67ff"
      },
      "cell_type": "code",
      "source": [
        "x_train.shape, y_train.shape, x_test.shape, y_test.shape"
      ],
      "execution_count": 5,
      "outputs": [
        {
          "output_type": "execute_result",
          "data": {
            "text/plain": [
              "((60000, 28, 28), (60000,), (10000, 28, 28), (10000,))"
            ]
          },
          "metadata": {
            "tags": []
          },
          "execution_count": 5
        }
      ]
    },
    {
      "metadata": {
        "id": "9h05oU_kskvs",
        "colab_type": "code",
        "colab": {}
      },
      "cell_type": "code",
      "source": [
        "# Normalize the data\n",
        "x_train, x_test = x_train / 255.0, x_test / 255.0"
      ],
      "execution_count": 0,
      "outputs": []
    },
    {
      "metadata": {
        "id": "PTGVtOG8sxbZ",
        "colab_type": "text"
      },
      "cell_type": "markdown",
      "source": [
        "There are two ways to build a model in keras. First is to use the **Sequential model API** in which we stack layers and provide the optimizer and loss function to use when compiling the model. Then there is the Keras **Functional API**. It is used to build complex models. In the functional API, each layer is a function. We define the input as a [tensor][1]. Then the first hidden layer would take that tensor as an input and the outputs of that layer can be fed into another layer and so on.\n",
        "\n",
        "Let's build a simple MNIST classifier using the **Sequential Model** API. The [Sequential Model class][2] is available as an alias `tf.keras.Sequential`. It is actually the part of models module and was accessed as `tf.keras.models.Sequential` in tf 1.0.\n",
        "\n",
        "[1]: https://www.tensorflow.org/versions/r2.0/api_docs/python/tf/Tensor\n",
        "[2]: https://www.tensorflow.org/versions/r2.0/api_docs/python/tf/keras/Sequential"
      ]
    },
    {
      "metadata": {
        "id": "89D3R51hu_aB",
        "colab_type": "code",
        "colab": {
          "base_uri": "https://localhost:8080/",
          "height": 34
        },
        "outputId": "c44b201b-3af2-4eb9-cba9-46f1f7b90021"
      },
      "cell_type": "code",
      "source": [
        "tf.keras.models.Sequential == tf.keras.Sequential"
      ],
      "execution_count": 7,
      "outputs": [
        {
          "output_type": "execute_result",
          "data": {
            "text/plain": [
              "True"
            ]
          },
          "metadata": {
            "tags": []
          },
          "execution_count": 7
        }
      ]
    },
    {
      "metadata": {
        "id": "Y2pkqIGXwn1A",
        "colab_type": "code",
        "colab": {}
      },
      "cell_type": "code",
      "source": [
        "# Let's create our neural network\n",
        "model = tf.keras.Sequential([\n",
        "    tf.keras.layers.Flatten(input_shape=(28, 28)),\n",
        "    tf.keras.layers.Dense(128, activation=\"relu\"),\n",
        "    tf.keras.layers.Dropout(0.2),\n",
        "    tf.keras.layers.Dense(10, activation=\"softmax\")\n",
        "])"
      ],
      "execution_count": 0,
      "outputs": []
    },
    {
      "metadata": {
        "id": "xOQMMB4QxW69",
        "colab_type": "text"
      },
      "cell_type": "markdown",
      "source": [
        "The Sequential class accepts a list of layers. We can also initialize our class first and add layers to it later using the [`Sequential.add(layer)`][1] method.\n",
        "\n",
        "[1]: https://www.tensorflow.org/versions/r2.0/api_docs/python/tf/keras/Sequential#add"
      ]
    },
    {
      "metadata": {
        "id": "ZcW9Gn74x9Ae",
        "colab_type": "text"
      },
      "cell_type": "markdown",
      "source": [
        "[Keras layers][1] provides the API for neural network layers consisting of one or more neurons. In tensorflow, it can be accessed using [`tf.keras.layers`][2] module. In this module we have different kinds of layers (Dense, Max pool, etc.) and activations (Relu, sigmoid, etc.).\n",
        "\n",
        "[Flatten][3] takes a input tensor and flattens it into an output tensor. \n",
        "\n",
        "[1]: https://keras.io/layers/about-keras-layers/\n",
        "[2]: https://www.tensorflow.org/versions/r2.0/api_docs/python/tf/keras/layers\n",
        "[3]: https://www.tensorflow.org/versions/r2.0/api_docs/python/tf/keras/layers/Flatten"
      ]
    },
    {
      "metadata": {
        "id": "XnJqN2tHNtI9",
        "colab_type": "code",
        "colab": {
          "base_uri": "https://localhost:8080/",
          "height": 289
        },
        "outputId": "e182f89c-b4bd-4930-9eca-707f3cd2e2bf"
      },
      "cell_type": "code",
      "source": [
        "model.summary()"
      ],
      "execution_count": 9,
      "outputs": [
        {
          "output_type": "stream",
          "text": [
            "Model: \"sequential\"\n",
            "_________________________________________________________________\n",
            "Layer (type)                 Output Shape              Param #   \n",
            "=================================================================\n",
            "flatten (Flatten)            (None, 784)               0         \n",
            "_________________________________________________________________\n",
            "dense (Dense)                (None, 128)               100480    \n",
            "_________________________________________________________________\n",
            "dropout (Dropout)            (None, 128)               0         \n",
            "_________________________________________________________________\n",
            "dense_1 (Dense)              (None, 10)                1290      \n",
            "=================================================================\n",
            "Total params: 101,770\n",
            "Trainable params: 101,770\n",
            "Non-trainable params: 0\n",
            "_________________________________________________________________\n"
          ],
          "name": "stdout"
        }
      ]
    },
    {
      "metadata": {
        "id": "6NxNJIWizxuh",
        "colab_type": "text"
      },
      "cell_type": "markdown",
      "source": [
        "Compiling the model means configuring the model for training. We provide the `optimizer`, `loss`, `metrics` (eg: `mse`, `accuracy`, etc.). The `metrics` is the list of metrics that must be evaluated during training and testing.\n",
        "\n",
        "We use [`Categorical cross entropy`][1] loss when there are two or more label classes and the labels are provided in `one_hot` representation. But as we know `y` ranges from 0 to 9 for each datapoint,  we use [`Sparse categorical cross entropy`][2].\n",
        "\n",
        "[1]: https://www.tensorflow.org/versions/r2.0/api_docs/python/tf/losses/CategoricalCrossentropy\n",
        "[2]: https://www.tensorflow.org/versions/r2.0/api_docs/python/tf/losses/SparseCategoricalCrossentropy"
      ]
    },
    {
      "metadata": {
        "id": "fvIukuHSz1N-",
        "colab_type": "code",
        "colab": {}
      },
      "cell_type": "code",
      "source": [
        "model.compile(optimizer=\"adam\",\n",
        "             loss=\"sparse_categorical_crossentropy\",\n",
        "             metrics=[\"accuracy\"])"
      ],
      "execution_count": 0,
      "outputs": []
    },
    {
      "metadata": {
        "id": "P2cFffX20ETj",
        "colab_type": "text"
      },
      "cell_type": "markdown",
      "source": [
        "Let the training begin!! [`Model.fit()`][1] trains the model for a fixed number of epochs on the training data. We are following batch learning. Because we didn't specify the `batch_size` in `model.fit` method, the batch_size default to 32.\n",
        "\n",
        "`validation_data` in `model.fit` is used while evaluating the loss or any other model metric at the end of each epoch. It's not used during training.\n",
        "\n",
        "`validation_split` takes a portion of `x` and `y` and uses it as validation data.\n",
        "\n",
        "`steps` is the number of batches are used before evaluation is considered finished. Since `steps` is `None`, evaluation takes place until dataset is exhausted.\n",
        "\n",
        "This pseudocode tells us the difference between validation, testing and training data.\n",
        "```\n",
        "for each epoch\n",
        "    for each training data instance\n",
        "        propagate error through the network\n",
        "        adjust the weights\n",
        "        calculate the accuracy over training data\n",
        "    for each validation data instance\n",
        "        calculate the accuracy over the validation data\n",
        "    if the threshold validation accuracy is met\n",
        "        exit training\n",
        "    else\n",
        "        continue training\n",
        "\n",
        "```\n",
        "Basically, validation data is used to minimize overfitting. We would know the model overfits when validation accuracy increases sharply!\n",
        "After training is finished, we run against the test dataset to verify that the accuracy is sufficient.\n",
        "\n",
        "Although in our case, we are using number of epochs as a stopping criterion.\n",
        "\n",
        "\n",
        "[1]: https://www.tensorflow.org/versions/r2.0/api_docs/python/tf/keras/Model#fit"
      ]
    },
    {
      "metadata": {
        "id": "qbSbzTml0HOu",
        "colab_type": "code",
        "colab": {
          "base_uri": "https://localhost:8080/",
          "height": 204
        },
        "outputId": "6a7dde2b-49c0-4497-af5e-d49c71068487"
      },
      "cell_type": "code",
      "source": [
        "model.fit(x_train, y_train, epochs=5)"
      ],
      "execution_count": 11,
      "outputs": [
        {
          "output_type": "stream",
          "text": [
            "Epoch 1/5\n",
            "60000/60000 [==============================] - 8s 132us/sample - loss: 0.2967 - accuracy: 0.9138\n",
            "Epoch 2/5\n",
            "60000/60000 [==============================] - 8s 127us/sample - loss: 0.1438 - accuracy: 0.9571\n",
            "Epoch 3/5\n",
            "60000/60000 [==============================] - 8s 127us/sample - loss: 0.1092 - accuracy: 0.9670\n",
            "Epoch 4/5\n",
            "60000/60000 [==============================] - 8s 127us/sample - loss: 0.0880 - accuracy: 0.9725\n",
            "Epoch 5/5\n",
            "60000/60000 [==============================] - 8s 126us/sample - loss: 0.0760 - accuracy: 0.9762\n"
          ],
          "name": "stdout"
        },
        {
          "output_type": "execute_result",
          "data": {
            "text/plain": [
              "<tensorflow.python.keras.callbacks.History at 0x7f79797c4240>"
            ]
          },
          "metadata": {
            "tags": []
          },
          "execution_count": 11
        }
      ]
    },
    {
      "metadata": {
        "id": "h7wD_5LBU8dM",
        "colab_type": "text"
      },
      "cell_type": "markdown",
      "source": [
        "Now after testing is complete, we evaluate our model on the test dataset. [`Model.evaluate()`][1] returns the loss and metric values for the model. Again, the batches of 32 are chosen since the computation is done in batches.\n",
        "\n",
        "[1]: https://www.tensorflow.org/versions/r2.0/api_docs/python/tf/keras/Model#evaluate"
      ]
    },
    {
      "metadata": {
        "id": "TGe9pTOGOWgF",
        "colab_type": "code",
        "colab": {
          "base_uri": "https://localhost:8080/",
          "height": 51
        },
        "outputId": "6d9dc04f-20e7-4219-cf4d-ad91d11eac92"
      },
      "cell_type": "code",
      "source": [
        "model.evaluate(x_test, y_test)"
      ],
      "execution_count": 12,
      "outputs": [
        {
          "output_type": "stream",
          "text": [
            "10000/10000 [==============================] - 1s 88us/sample - loss: 0.0732 - accuracy: 0.9772\n"
          ],
          "name": "stdout"
        },
        {
          "output_type": "execute_result",
          "data": {
            "text/plain": [
              "[0.07318823329345323, 0.9772]"
            ]
          },
          "metadata": {
            "tags": []
          },
          "execution_count": 12
        }
      ]
    }
  ]
}